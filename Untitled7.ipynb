{
  "nbformat": 4,
  "nbformat_minor": 0,
  "metadata": {
    "colab": {
      "name": "Untitled7.ipynb",
      "provenance": []
    },
    "kernelspec": {
      "name": "python3",
      "display_name": "Python 3"
    },
    "language_info": {
      "name": "python"
    }
  },
  "cells": [
    {
      "cell_type": "markdown",
      "metadata": {
        "id": "EFbNzllqjhhA"
      },
      "source": [
        "Shooju Simple Task"
      ]
    },
    {
      "cell_type": "code",
      "metadata": {
        "colab": {
          "base_uri": "https://localhost:8080/",
          "height": 204
        },
        "id": "8bVCXl--jgM7",
        "outputId": "79047833-b964-440e-c27a-75c932e0ca1b"
      },
      "source": [
        "import requests, zipfile, io\n",
        "import pandas as pd\n",
        "url = 'https://www.jodidata.org/_resources/files/downloads/gas-data/jodi_gas_csv_beta.zip'\n",
        "r = requests.get(url, stream=True)\n",
        "Arq_zip = zipfile.ZipFile(io.BytesIO(r.content))\n",
        "Arq_zip.namelist()\n",
        "Data  = pd.read_csv(Arq_zip.open(Arq_zip.namelist()[0]))\n",
        "Data.head()"
      ],
      "execution_count": null,
      "outputs": [
        {
          "output_type": "execute_result",
          "data": {
            "text/html": [
              "<div>\n",
              "<style scoped>\n",
              "    .dataframe tbody tr th:only-of-type {\n",
              "        vertical-align: middle;\n",
              "    }\n",
              "\n",
              "    .dataframe tbody tr th {\n",
              "        vertical-align: top;\n",
              "    }\n",
              "\n",
              "    .dataframe thead th {\n",
              "        text-align: right;\n",
              "    }\n",
              "</style>\n",
              "<table border=\"1\" class=\"dataframe\">\n",
              "  <thead>\n",
              "    <tr style=\"text-align: right;\">\n",
              "      <th></th>\n",
              "      <th>REF_AREA</th>\n",
              "      <th>TIME_PERIOD</th>\n",
              "      <th>ENERGY_PRODUCT</th>\n",
              "      <th>FLOW_BREAKDOWN</th>\n",
              "      <th>UNIT_MEASURE</th>\n",
              "      <th>OBS_VALUE</th>\n",
              "      <th>ASSESSMENT_CODE</th>\n",
              "    </tr>\n",
              "  </thead>\n",
              "  <tbody>\n",
              "    <tr>\n",
              "      <th>0</th>\n",
              "      <td>AE</td>\n",
              "      <td>2015-01</td>\n",
              "      <td>LNG</td>\n",
              "      <td>EXPLNG</td>\n",
              "      <td>M3</td>\n",
              "      <td>756.9760</td>\n",
              "      <td>2</td>\n",
              "    </tr>\n",
              "    <tr>\n",
              "      <th>1</th>\n",
              "      <td>AE</td>\n",
              "      <td>2015-01</td>\n",
              "      <td>LNG</td>\n",
              "      <td>IMPLNG</td>\n",
              "      <td>M3</td>\n",
              "      <td>8.6278</td>\n",
              "      <td>2</td>\n",
              "    </tr>\n",
              "    <tr>\n",
              "      <th>2</th>\n",
              "      <td>AE</td>\n",
              "      <td>2015-01</td>\n",
              "      <td>NATGAS</td>\n",
              "      <td>EXPLNG</td>\n",
              "      <td>M3</td>\n",
              "      <td>756.9760</td>\n",
              "      <td>3</td>\n",
              "    </tr>\n",
              "    <tr>\n",
              "      <th>3</th>\n",
              "      <td>AE</td>\n",
              "      <td>2015-01</td>\n",
              "      <td>NATGAS</td>\n",
              "      <td>EXPPIP</td>\n",
              "      <td>M3</td>\n",
              "      <td>0.0000</td>\n",
              "      <td>2</td>\n",
              "    </tr>\n",
              "    <tr>\n",
              "      <th>4</th>\n",
              "      <td>AE</td>\n",
              "      <td>2015-01</td>\n",
              "      <td>NATGAS</td>\n",
              "      <td>IMPLNG</td>\n",
              "      <td>M3</td>\n",
              "      <td>8.6278</td>\n",
              "      <td>3</td>\n",
              "    </tr>\n",
              "  </tbody>\n",
              "</table>\n",
              "</div>"
            ],
            "text/plain": [
              "  REF_AREA TIME_PERIOD ENERGY_PRODUCT  ... UNIT_MEASURE OBS_VALUE  ASSESSMENT_CODE\n",
              "0       AE     2015-01            LNG  ...           M3  756.9760                2\n",
              "1       AE     2015-01            LNG  ...           M3    8.6278                2\n",
              "2       AE     2015-01         NATGAS  ...           M3  756.9760                3\n",
              "3       AE     2015-01         NATGAS  ...           M3    0.0000                2\n",
              "4       AE     2015-01         NATGAS  ...           M3    8.6278                3\n",
              "\n",
              "[5 rows x 7 columns]"
            ]
          },
          "metadata": {
            "tags": []
          },
          "execution_count": 60
        }
      ]
    },
    {
      "cell_type": "code",
      "metadata": {
        "colab": {
          "base_uri": "https://localhost:8080/"
        },
        "id": "BiYNNeb4kABc",
        "outputId": "a9eca89e-09b0-40ad-eac2-b35d107589be"
      },
      "source": [
        "df = Data.to_json(orient = 'records', lines = True, date_format = 'iso')\n",
        "print(df[0:200])"
      ],
      "execution_count": null,
      "outputs": [
        {
          "output_type": "stream",
          "text": [
            "{\"REF_AREA\":\"AE\",\"TIME_PERIOD\":\"2015-01\",\"ENERGY_PRODUCT\":\"LNG\",\"FLOW_BREAKDOWN\":\"EXPLNG\",\"UNIT_MEASURE\":\"M3\",\"OBS_VALUE\":756.976,\"ASSESSMENT_CODE\":2}\n",
            "{\"REF_AREA\":\"AE\",\"TIME_PERIOD\":\"2015-01\",\"ENERGY_\n"
          ],
          "name": "stdout"
        }
      ]
    },
    {
      "cell_type": "markdown",
      "metadata": {
        "id": "8Q3rK3SJy-vD"
      },
      "source": [
        "# Nova seção"
      ]
    },
    {
      "cell_type": "code",
      "metadata": {
        "id": "BRiCx5NHxT5w"
      },
      "source": [
        ""
      ],
      "execution_count": null,
      "outputs": []
    }
  ]
}